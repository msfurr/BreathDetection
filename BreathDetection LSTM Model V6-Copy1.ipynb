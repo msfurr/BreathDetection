{
 "cells": [
  {
   "cell_type": "markdown",
   "metadata": {},
   "source": [
    "### Import Libraries"
   ]
  },
  {
   "cell_type": "code",
   "execution_count": 174,
   "metadata": {},
   "outputs": [],
   "source": [
    "import pandas as pd\n",
    "import tensorflow as tf\n",
    "from sklearn.model_selection import train_test_split\n",
    "from sklearn.metrics import classification_report,confusion_matrix\n",
    "from sklearn.preprocessing import StandardScaler\n",
    "from tensorflow import keras\n",
    "import numpy as np\n",
    "import matplotlib.pyplot as plt\n",
    "import seaborn as sns\n",
    "from scipy import stats"
   ]
  },
  {
   "cell_type": "markdown",
   "metadata": {},
   "source": [
    "### Read in Dataset"
   ]
  },
  {
   "cell_type": "code",
   "execution_count": 175,
   "metadata": {},
   "outputs": [],
   "source": [
    "df = pd.read_csv('fbdh1.csv')"
   ]
  },
  {
   "cell_type": "code",
   "execution_count": 176,
   "metadata": {},
   "outputs": [
    {
     "data": {
      "text/html": [
       "<div>\n",
       "<style scoped>\n",
       "    .dataframe tbody tr th:only-of-type {\n",
       "        vertical-align: middle;\n",
       "    }\n",
       "\n",
       "    .dataframe tbody tr th {\n",
       "        vertical-align: top;\n",
       "    }\n",
       "\n",
       "    .dataframe thead th {\n",
       "        text-align: right;\n",
       "    }\n",
       "</style>\n",
       "<table border=\"1\" class=\"dataframe\">\n",
       "  <thead>\n",
       "    <tr style=\"text-align: right;\">\n",
       "      <th></th>\n",
       "      <th>Flow</th>\n",
       "      <th>D1</th>\n",
       "      <th>D2</th>\n",
       "      <th>P1</th>\n",
       "      <th>P2</th>\n",
       "      <th>dD1</th>\n",
       "      <th>dD2</th>\n",
       "      <th>dP1</th>\n",
       "      <th>dP2</th>\n",
       "    </tr>\n",
       "  </thead>\n",
       "  <tbody>\n",
       "    <tr>\n",
       "      <th>0</th>\n",
       "      <td>-16.69</td>\n",
       "      <td>99.49</td>\n",
       "      <td>-145.71</td>\n",
       "      <td>48.04</td>\n",
       "      <td>-15.90</td>\n",
       "      <td>81.17</td>\n",
       "      <td>12.26</td>\n",
       "      <td>36.71</td>\n",
       "      <td>2.21</td>\n",
       "    </tr>\n",
       "    <tr>\n",
       "      <th>1</th>\n",
       "      <td>-16.23</td>\n",
       "      <td>172.78</td>\n",
       "      <td>-118.66</td>\n",
       "      <td>79.84</td>\n",
       "      <td>-11.94</td>\n",
       "      <td>80.09</td>\n",
       "      <td>18.49</td>\n",
       "      <td>35.48</td>\n",
       "      <td>2.91</td>\n",
       "    </tr>\n",
       "    <tr>\n",
       "      <th>2</th>\n",
       "      <td>-15.54</td>\n",
       "      <td>242.66</td>\n",
       "      <td>-81.28</td>\n",
       "      <td>109.77</td>\n",
       "      <td>-7.75</td>\n",
       "      <td>75.74</td>\n",
       "      <td>24.65</td>\n",
       "      <td>33.03</td>\n",
       "      <td>3.26</td>\n",
       "    </tr>\n",
       "    <tr>\n",
       "      <th>3</th>\n",
       "      <td>-15.17</td>\n",
       "      <td>316.42</td>\n",
       "      <td>-55.50</td>\n",
       "      <td>140.84</td>\n",
       "      <td>-5.30</td>\n",
       "      <td>74.07</td>\n",
       "      <td>28.43</td>\n",
       "      <td>31.89</td>\n",
       "      <td>3.37</td>\n",
       "    </tr>\n",
       "    <tr>\n",
       "      <th>4</th>\n",
       "      <td>-14.51</td>\n",
       "      <td>392.40</td>\n",
       "      <td>-31.67</td>\n",
       "      <td>171.92</td>\n",
       "      <td>-1.24</td>\n",
       "      <td>73.96</td>\n",
       "      <td>29.70</td>\n",
       "      <td>31.32</td>\n",
       "      <td>3.68</td>\n",
       "    </tr>\n",
       "  </tbody>\n",
       "</table>\n",
       "</div>"
      ],
      "text/plain": [
       "    Flow      D1      D2      P1     P2    dD1    dD2    dP1   dP2\n",
       "0 -16.69   99.49 -145.71   48.04 -15.90  81.17  12.26  36.71  2.21\n",
       "1 -16.23  172.78 -118.66   79.84 -11.94  80.09  18.49  35.48  2.91\n",
       "2 -15.54  242.66  -81.28  109.77  -7.75  75.74  24.65  33.03  3.26\n",
       "3 -15.17  316.42  -55.50  140.84  -5.30  74.07  28.43  31.89  3.37\n",
       "4 -14.51  392.40  -31.67  171.92  -1.24  73.96  29.70  31.32  3.68"
      ]
     },
     "execution_count": 176,
     "metadata": {},
     "output_type": "execute_result"
    }
   ],
   "source": [
    "df.head()"
   ]
  },
  {
   "cell_type": "code",
   "execution_count": 177,
   "metadata": {},
   "outputs": [],
   "source": [
    "def label_fix(label):\n",
    "    if label < -7.5:\n",
    "        return 0\n",
    "    elif label > 7.5:\n",
    "        return 1\n",
    "    else:\n",
    "        return 2\n",
    "\n",
    "df['Class'] = df['Flow'].apply(label_fix)"
   ]
  },
  {
   "cell_type": "code",
   "execution_count": 178,
   "metadata": {},
   "outputs": [
    {
     "data": {
      "text/html": [
       "<div>\n",
       "<style scoped>\n",
       "    .dataframe tbody tr th:only-of-type {\n",
       "        vertical-align: middle;\n",
       "    }\n",
       "\n",
       "    .dataframe tbody tr th {\n",
       "        vertical-align: top;\n",
       "    }\n",
       "\n",
       "    .dataframe thead th {\n",
       "        text-align: right;\n",
       "    }\n",
       "</style>\n",
       "<table border=\"1\" class=\"dataframe\">\n",
       "  <thead>\n",
       "    <tr style=\"text-align: right;\">\n",
       "      <th></th>\n",
       "      <th>Flow</th>\n",
       "      <th>D1</th>\n",
       "      <th>D2</th>\n",
       "      <th>P1</th>\n",
       "      <th>P2</th>\n",
       "      <th>dD1</th>\n",
       "      <th>dD2</th>\n",
       "      <th>dP1</th>\n",
       "      <th>dP2</th>\n",
       "      <th>Class</th>\n",
       "    </tr>\n",
       "  </thead>\n",
       "  <tbody>\n",
       "    <tr>\n",
       "      <th>0</th>\n",
       "      <td>-16.69</td>\n",
       "      <td>99.49</td>\n",
       "      <td>-145.71</td>\n",
       "      <td>48.04</td>\n",
       "      <td>-15.90</td>\n",
       "      <td>81.17</td>\n",
       "      <td>12.26</td>\n",
       "      <td>36.71</td>\n",
       "      <td>2.21</td>\n",
       "      <td>0</td>\n",
       "    </tr>\n",
       "    <tr>\n",
       "      <th>1</th>\n",
       "      <td>-16.23</td>\n",
       "      <td>172.78</td>\n",
       "      <td>-118.66</td>\n",
       "      <td>79.84</td>\n",
       "      <td>-11.94</td>\n",
       "      <td>80.09</td>\n",
       "      <td>18.49</td>\n",
       "      <td>35.48</td>\n",
       "      <td>2.91</td>\n",
       "      <td>0</td>\n",
       "    </tr>\n",
       "    <tr>\n",
       "      <th>2</th>\n",
       "      <td>-15.54</td>\n",
       "      <td>242.66</td>\n",
       "      <td>-81.28</td>\n",
       "      <td>109.77</td>\n",
       "      <td>-7.75</td>\n",
       "      <td>75.74</td>\n",
       "      <td>24.65</td>\n",
       "      <td>33.03</td>\n",
       "      <td>3.26</td>\n",
       "      <td>0</td>\n",
       "    </tr>\n",
       "    <tr>\n",
       "      <th>3</th>\n",
       "      <td>-15.17</td>\n",
       "      <td>316.42</td>\n",
       "      <td>-55.50</td>\n",
       "      <td>140.84</td>\n",
       "      <td>-5.30</td>\n",
       "      <td>74.07</td>\n",
       "      <td>28.43</td>\n",
       "      <td>31.89</td>\n",
       "      <td>3.37</td>\n",
       "      <td>0</td>\n",
       "    </tr>\n",
       "    <tr>\n",
       "      <th>4</th>\n",
       "      <td>-14.51</td>\n",
       "      <td>392.40</td>\n",
       "      <td>-31.67</td>\n",
       "      <td>171.92</td>\n",
       "      <td>-1.24</td>\n",
       "      <td>73.96</td>\n",
       "      <td>29.70</td>\n",
       "      <td>31.32</td>\n",
       "      <td>3.68</td>\n",
       "      <td>0</td>\n",
       "    </tr>\n",
       "  </tbody>\n",
       "</table>\n",
       "</div>"
      ],
      "text/plain": [
       "    Flow      D1      D2      P1     P2    dD1    dD2    dP1   dP2  Class\n",
       "0 -16.69   99.49 -145.71   48.04 -15.90  81.17  12.26  36.71  2.21      0\n",
       "1 -16.23  172.78 -118.66   79.84 -11.94  80.09  18.49  35.48  2.91      0\n",
       "2 -15.54  242.66  -81.28  109.77  -7.75  75.74  24.65  33.03  3.26      0\n",
       "3 -15.17  316.42  -55.50  140.84  -5.30  74.07  28.43  31.89  3.37      0\n",
       "4 -14.51  392.40  -31.67  171.92  -1.24  73.96  29.70  31.32  3.68      0"
      ]
     },
     "execution_count": 178,
     "metadata": {},
     "output_type": "execute_result"
    }
   ],
   "source": [
    "df.head()"
   ]
  },
  {
   "cell_type": "code",
   "execution_count": 171,
   "metadata": {},
   "outputs": [],
   "source": [
    "# Create Function to Gather Data into Overlapping Windows\n",
    "# Cuts data into size compatible with window length and step size\n",
    "# Gathers data into results output\n",
    "# Takes the mode of the classes for each window and saves in classes output\n",
    "\n",
    "def windowData(df, windowSize, stepSize):\n",
    "    \n",
    "    df.reset_index(drop = True, inplace = True)\n",
    "    new_data = df\n",
    "    \n",
    "    for i in range(len(new_data) - windowSize, len(new_data)):\n",
    "        \n",
    "        if (i - windowSize) % stepSize  == 0:\n",
    "            new_data = df.truncate(after = i - 1)\n",
    "    \n",
    "    windf = new_data\n",
    "    \n",
    "    length = len(windf['D1'])\n",
    "    \n",
    "    results = np.zeros([int((length - windowSize) / stepSize), windowSize, 8])\n",
    "    classes = np.zeros([int((length - windowSize) / stepSize), 1])\n",
    "    \n",
    "    for j in range(0, results.shape[0]):\n",
    "        \n",
    "        classData = np.zeros([windowSize, 1])\n",
    "        \n",
    "        for i in range(0, windowSize):\n",
    "            \n",
    "            results[j][i] = [windf['D1'][i + (j * stepSize)], \n",
    "                                 windf['D2'][i + (j * stepSize)], \n",
    "                                 windf['P1'][i + (j * stepSize)], \n",
    "                                 windf['P2'][i + (j * stepSize)], \n",
    "                                 windf['dD1'][i + (j * stepSize)], \n",
    "                                 windf['dD2'][i + (j * stepSize)], \n",
    "                                 windf['dP1'][i + (j * stepSize)], \n",
    "                                 windf['dP2'][i + (j * stepSize)]]\n",
    "            \n",
    "            classData[i] = windf['Class'][i + (j * stepSize)]\n",
    "            \n",
    "        classes[j] = int(stats.mode(classData)[0])\n",
    "        \n",
    "    return results, classes"
   ]
  },
  {
   "cell_type": "markdown",
   "metadata": {},
   "source": [
    "### Create Feature Matrix / Gather Training and Testing Data"
   ]
  },
  {
   "cell_type": "code",
   "execution_count": 169,
   "metadata": {},
   "outputs": [
    {
     "data": {
      "text/html": [
       "<div>\n",
       "<style scoped>\n",
       "    .dataframe tbody tr th:only-of-type {\n",
       "        vertical-align: middle;\n",
       "    }\n",
       "\n",
       "    .dataframe tbody tr th {\n",
       "        vertical-align: top;\n",
       "    }\n",
       "\n",
       "    .dataframe thead th {\n",
       "        text-align: right;\n",
       "    }\n",
       "</style>\n",
       "<table border=\"1\" class=\"dataframe\">\n",
       "  <thead>\n",
       "    <tr style=\"text-align: right;\">\n",
       "      <th></th>\n",
       "      <th>Flow</th>\n",
       "      <th>D1</th>\n",
       "      <th>D2</th>\n",
       "      <th>P1</th>\n",
       "      <th>P2</th>\n",
       "      <th>dD1</th>\n",
       "      <th>dD2</th>\n",
       "      <th>dP1</th>\n",
       "      <th>dP2</th>\n",
       "      <th>Class</th>\n",
       "    </tr>\n",
       "  </thead>\n",
       "  <tbody>\n",
       "    <tr>\n",
       "      <th>0</th>\n",
       "      <td>-16.69</td>\n",
       "      <td>99.49</td>\n",
       "      <td>-145.71</td>\n",
       "      <td>48.04</td>\n",
       "      <td>-15.90</td>\n",
       "      <td>81.17</td>\n",
       "      <td>12.26</td>\n",
       "      <td>36.71</td>\n",
       "      <td>2.21</td>\n",
       "      <td>0</td>\n",
       "    </tr>\n",
       "    <tr>\n",
       "      <th>1</th>\n",
       "      <td>-16.23</td>\n",
       "      <td>172.78</td>\n",
       "      <td>-118.66</td>\n",
       "      <td>79.84</td>\n",
       "      <td>-11.94</td>\n",
       "      <td>80.09</td>\n",
       "      <td>18.49</td>\n",
       "      <td>35.48</td>\n",
       "      <td>2.91</td>\n",
       "      <td>0</td>\n",
       "    </tr>\n",
       "    <tr>\n",
       "      <th>2</th>\n",
       "      <td>-15.54</td>\n",
       "      <td>242.66</td>\n",
       "      <td>-81.28</td>\n",
       "      <td>109.77</td>\n",
       "      <td>-7.75</td>\n",
       "      <td>75.74</td>\n",
       "      <td>24.65</td>\n",
       "      <td>33.03</td>\n",
       "      <td>3.26</td>\n",
       "      <td>0</td>\n",
       "    </tr>\n",
       "    <tr>\n",
       "      <th>3</th>\n",
       "      <td>-15.17</td>\n",
       "      <td>316.42</td>\n",
       "      <td>-55.50</td>\n",
       "      <td>140.84</td>\n",
       "      <td>-5.30</td>\n",
       "      <td>74.07</td>\n",
       "      <td>28.43</td>\n",
       "      <td>31.89</td>\n",
       "      <td>3.37</td>\n",
       "      <td>0</td>\n",
       "    </tr>\n",
       "    <tr>\n",
       "      <th>4</th>\n",
       "      <td>-14.51</td>\n",
       "      <td>392.40</td>\n",
       "      <td>-31.67</td>\n",
       "      <td>171.92</td>\n",
       "      <td>-1.24</td>\n",
       "      <td>73.96</td>\n",
       "      <td>29.70</td>\n",
       "      <td>31.32</td>\n",
       "      <td>3.68</td>\n",
       "      <td>0</td>\n",
       "    </tr>\n",
       "  </tbody>\n",
       "</table>\n",
       "</div>"
      ],
      "text/plain": [
       "    Flow      D1      D2      P1     P2    dD1    dD2    dP1   dP2  Class\n",
       "0 -16.69   99.49 -145.71   48.04 -15.90  81.17  12.26  36.71  2.21      0\n",
       "1 -16.23  172.78 -118.66   79.84 -11.94  80.09  18.49  35.48  2.91      0\n",
       "2 -15.54  242.66  -81.28  109.77  -7.75  75.74  24.65  33.03  3.26      0\n",
       "3 -15.17  316.42  -55.50  140.84  -5.30  74.07  28.43  31.89  3.37      0\n",
       "4 -14.51  392.40  -31.67  171.92  -1.24  73.96  29.70  31.32  3.68      0"
      ]
     },
     "execution_count": 169,
     "metadata": {},
     "output_type": "execute_result"
    }
   ],
   "source": [
    "df.head()"
   ]
  },
  {
   "cell_type": "code",
   "execution_count": 181,
   "metadata": {},
   "outputs": [],
   "source": [
    "scaleData = df.drop('Flow', axis = 1)\n",
    "scaleData.drop('Class', axis = 1, inplace = True)\n",
    "\n",
    "scaler = StandardScaler()\n",
    "scaler.fit(scaleData)\n",
    "scaled_features = scaler.transform(scaleData)\n",
    "\n",
    "X = pd.DataFrame(scaled_features, columns = df.columns[1:9])\n",
    "X['Class'] = df['Class']\n",
    "\n",
    "X_train, X_test, y_train, y_test = train_test_split(X, y, test_size = 0.3)"
   ]
  },
  {
   "cell_type": "code",
   "execution_count": 182,
   "metadata": {},
   "outputs": [],
   "source": [
    "trainX, trainY = windowData(X_train, 4, 1)\n",
    "testX, testY = windowData(X_test, 4, 1)"
   ]
  },
  {
   "cell_type": "code",
   "execution_count": 183,
   "metadata": {},
   "outputs": [
    {
     "data": {
      "text/plain": [
       "(4659, 4, 8)"
      ]
     },
     "execution_count": 183,
     "metadata": {},
     "output_type": "execute_result"
    }
   ],
   "source": [
    "trainX.shape"
   ]
  },
  {
   "cell_type": "code",
   "execution_count": 184,
   "metadata": {},
   "outputs": [
    {
     "data": {
      "text/plain": [
       "(4659, 1)"
      ]
     },
     "execution_count": 184,
     "metadata": {},
     "output_type": "execute_result"
    }
   ],
   "source": [
    "trainY.shape"
   ]
  },
  {
   "cell_type": "code",
   "execution_count": 179,
   "metadata": {},
   "outputs": [
    {
     "data": {
      "text/plain": [
       "<matplotlib.axes._subplots.AxesSubplot at 0x1a3f556f28>"
      ]
     },
     "execution_count": 179,
     "metadata": {},
     "output_type": "execute_result"
    },
    {
     "data": {
      "image/png": "[encoded data removed]",
      "text/plain": [
       "<Figure size 1296x360 with 1 Axes>"
      ]
     },
     "metadata": {
      "needs_background": "light"
     },
     "output_type": "display_data"
    }
   ],
   "source": [
    "fig = plt.figure(figsize = (18, 5))\n",
    "sns.scatterplot(y = df['Flow'][0:300], x = range(0, 300), hue = df['Class'][0:300], palette = 'coolwarm')"
   ]
  },
  {
   "cell_type": "markdown",
   "metadata": {},
   "source": [
    "### Develop LSTM Model"
   ]
  },
  {
   "cell_type": "code",
   "execution_count": 185,
   "metadata": {},
   "outputs": [
    {
     "name": "stdout",
     "output_type": "stream",
     "text": [
      "Model: \"sequential_10\"\n",
      "_________________________________________________________________\n",
      "Layer (type)                 Output Shape              Param #   \n",
      "=================================================================\n",
      "lstm_10 (LSTM)               (None, 175)               128800    \n",
      "_________________________________________________________________\n",
      "dropout_20 (Dropout)         (None, 175)               0         \n",
      "_________________________________________________________________\n",
      "dense_20 (Dense)             (None, 50)                8800      \n",
      "_________________________________________________________________\n",
      "dropout_21 (Dropout)         (None, 50)                0         \n",
      "_________________________________________________________________\n",
      "dense_21 (Dense)             (None, 3)                 153       \n",
      "=================================================================\n",
      "Total params: 137,753\n",
      "Trainable params: 137,753\n",
      "Non-trainable params: 0\n",
      "_________________________________________________________________\n"
     ]
    }
   ],
   "source": [
    "time_steps = trainX.shape[1]\n",
    "features = trainX.shape[2]\n",
    "\n",
    "LSTM = keras.Sequential()\n",
    "LSTM.add(keras.layers.LSTM(175, input_shape = (time_steps, features)))\n",
    "LSTM.add(keras.layers.Dropout(0.3))\n",
    "LSTM.add(keras.layers.Dense(50, activation = tf.nn.relu))\n",
    "LSTM.add(keras.layers.Dropout(0.4))\n",
    "LSTM.add(keras.layers.Dense(3, activation = tf.nn.softmax))\n",
    "LSTM.compile(loss = 'sparse_categorical_crossentropy', optimizer = 'adam', metrics = ['accuracy'])\n",
    "\n",
    "LSTM.summary()"
   ]
  },
  {
   "cell_type": "code",
   "execution_count": 186,
   "metadata": {},
   "outputs": [
    {
     "name": "stdout",
     "output_type": "stream",
     "text": [
      "Epoch 1/50\n",
      "4659/4659 [==============================] - 2s 327us/sample - loss: 0.6626 - acc: 0.7508\n",
      "Epoch 2/50\n",
      "4659/4659 [==============================] - 1s 213us/sample - loss: 0.5289 - acc: 0.7959\n",
      "Epoch 3/50\n",
      "4659/4659 [==============================] - 1s 192us/sample - loss: 0.5038 - acc: 0.8036\n",
      "Epoch 4/50\n",
      "4659/4659 [==============================] - 1s 174us/sample - loss: 0.4779 - acc: 0.8077\n",
      "Epoch 5/50\n",
      "4659/4659 [==============================] - 1s 185us/sample - loss: 0.4705 - acc: 0.8135\n",
      "Epoch 6/50\n",
      "4659/4659 [==============================] - 1s 211us/sample - loss: 0.4583 - acc: 0.8169\n",
      "Epoch 7/50\n",
      "4659/4659 [==============================] - 1s 224us/sample - loss: 0.4422 - acc: 0.8244\n",
      "Epoch 8/50\n",
      "4659/4659 [==============================] - 1s 234us/sample - loss: 0.4301 - acc: 0.8291\n",
      "Epoch 9/50\n",
      "4659/4659 [==============================] - 1s 234us/sample - loss: 0.4185 - acc: 0.8317\n",
      "Epoch 10/50\n",
      "4659/4659 [==============================] - 1s 202us/sample - loss: 0.4100 - acc: 0.8304\n",
      "Epoch 11/50\n",
      "4659/4659 [==============================] - 1s 188us/sample - loss: 0.4055 - acc: 0.8334\n",
      "Epoch 12/50\n",
      "4659/4659 [==============================] - 1s 185us/sample - loss: 0.3910 - acc: 0.8388\n",
      "Epoch 13/50\n",
      "4659/4659 [==============================] - 1s 181us/sample - loss: 0.3827 - acc: 0.8429\n",
      "Epoch 14/50\n",
      "4659/4659 [==============================] - 1s 191us/sample - loss: 0.3688 - acc: 0.8461\n",
      "Epoch 15/50\n",
      "4659/4659 [==============================] - 1s 192us/sample - loss: 0.3628 - acc: 0.8474\n",
      "Epoch 16/50\n",
      "4659/4659 [==============================] - 1s 190us/sample - loss: 0.3582 - acc: 0.8555\n",
      "Epoch 17/50\n",
      "4659/4659 [==============================] - 1s 194us/sample - loss: 0.3451 - acc: 0.8543\n",
      "Epoch 18/50\n",
      "4659/4659 [==============================] - 1s 188us/sample - loss: 0.3403 - acc: 0.8613\n",
      "Epoch 19/50\n",
      "4659/4659 [==============================] - 1s 192us/sample - loss: 0.3373 - acc: 0.8573\n",
      "Epoch 20/50\n",
      "4659/4659 [==============================] - 1s 190us/sample - loss: 0.3272 - acc: 0.8620\n",
      "Epoch 21/50\n",
      "4659/4659 [==============================] - 1s 187us/sample - loss: 0.3151 - acc: 0.8731\n",
      "Epoch 22/50\n",
      "4659/4659 [==============================] - 1s 197us/sample - loss: 0.3103 - acc: 0.8712\n",
      "Epoch 23/50\n",
      "4659/4659 [==============================] - 1s 207us/sample - loss: 0.2955 - acc: 0.8751\n",
      "Epoch 24/50\n",
      "4659/4659 [==============================] - 1s 195us/sample - loss: 0.2876 - acc: 0.8826\n",
      "Epoch 25/50\n",
      "4659/4659 [==============================] - 1s 196us/sample - loss: 0.2912 - acc: 0.8817\n",
      "Epoch 26/50\n",
      "4659/4659 [==============================] - 1s 191us/sample - loss: 0.2772 - acc: 0.8867\n",
      "Epoch 27/50\n",
      "4659/4659 [==============================] - 1s 202us/sample - loss: 0.2693 - acc: 0.8895\n",
      "Epoch 28/50\n",
      "4659/4659 [==============================] - 1s 201us/sample - loss: 0.2566 - acc: 0.8860\n",
      "Epoch 29/50\n",
      "4659/4659 [==============================] - 1s 201us/sample - loss: 0.2439 - acc: 0.8946\n",
      "Epoch 30/50\n",
      "4659/4659 [==============================] - 1s 188us/sample - loss: 0.2316 - acc: 0.9019\n",
      "Epoch 31/50\n",
      "4659/4659 [==============================] - 1s 187us/sample - loss: 0.2327 - acc: 0.9023\n",
      "Epoch 32/50\n",
      "4659/4659 [==============================] - 1s 186us/sample - loss: 0.2232 - acc: 0.9051\n",
      "Epoch 33/50\n",
      "4659/4659 [==============================] - 1s 189us/sample - loss: 0.2140 - acc: 0.9103\n",
      "Epoch 34/50\n",
      "4659/4659 [==============================] - 1s 196us/sample - loss: 0.2067 - acc: 0.9111\n",
      "Epoch 35/50\n",
      "4659/4659 [==============================] - 1s 191us/sample - loss: 0.1884 - acc: 0.9217\n",
      "Epoch 36/50\n",
      "4659/4659 [==============================] - 1s 196us/sample - loss: 0.1770 - acc: 0.9223\n",
      "Epoch 37/50\n",
      "4659/4659 [==============================] - 1s 192us/sample - loss: 0.1830 - acc: 0.9255\n",
      "Epoch 38/50\n",
      "4659/4659 [==============================] - 1s 192us/sample - loss: 0.1656 - acc: 0.9292\n",
      "Epoch 39/50\n",
      "4659/4659 [==============================] - 1s 195us/sample - loss: 0.1538 - acc: 0.9367\n",
      "Epoch 40/50\n",
      "4659/4659 [==============================] - 1s 206us/sample - loss: 0.1533 - acc: 0.9380\n",
      "Epoch 41/50\n",
      "4659/4659 [==============================] - 1s 194us/sample - loss: 0.1489 - acc: 0.9347\n",
      "Epoch 42/50\n",
      "4659/4659 [==============================] - 1s 199us/sample - loss: 0.1419 - acc: 0.9408\n",
      "Epoch 43/50\n",
      "4659/4659 [==============================] - 1s 201us/sample - loss: 0.1255 - acc: 0.9455\n",
      "Epoch 44/50\n",
      "4659/4659 [==============================] - 1s 200us/sample - loss: 0.1378 - acc: 0.9431\n",
      "Epoch 45/50\n",
      "4659/4659 [==============================] - 1s 207us/sample - loss: 0.1264 - acc: 0.9491\n",
      "Epoch 46/50\n",
      "4659/4659 [==============================] - 1s 196us/sample - loss: 0.1243 - acc: 0.9451\n",
      "Epoch 47/50\n",
      "4659/4659 [==============================] - 1s 192us/sample - loss: 0.1087 - acc: 0.9554\n",
      "Epoch 48/50\n",
      "4659/4659 [==============================] - 1s 193us/sample - loss: 0.1122 - acc: 0.9556\n",
      "Epoch 49/50\n",
      "4659/4659 [==============================] - 1s 194us/sample - loss: 0.1000 - acc: 0.9590\n",
      "Epoch 50/50\n",
      "4659/4659 [==============================] - 1s 190us/sample - loss: 0.0903 - acc: 0.9646\n"
     ]
    },
    {
     "data": {
      "text/plain": [
       "<tensorflow.python.keras.callbacks.History at 0x1a40f38c50>"
      ]
     },
     "execution_count": 186,
     "metadata": {},
     "output_type": "execute_result"
    }
   ],
   "source": [
    "LSTM.fit(trainX, trainY, epochs = 50)"
   ]
  },
  {
   "cell_type": "markdown",
   "metadata": {},
   "source": [
    "### Evaluate Model on Testing Split"
   ]
  },
  {
   "cell_type": "code",
   "execution_count": 187,
   "metadata": {},
   "outputs": [
    {
     "data": {
      "text/plain": [
       "(1995, 4, 8)"
      ]
     },
     "execution_count": 187,
     "metadata": {},
     "output_type": "execute_result"
    }
   ],
   "source": [
    "testX.shape"
   ]
  },
  {
   "cell_type": "code",
   "execution_count": 188,
   "metadata": {},
   "outputs": [
    {
     "data": {
      "text/plain": [
       "(1995, 1)"
      ]
     },
     "execution_count": 188,
     "metadata": {},
     "output_type": "execute_result"
    }
   ],
   "source": [
    "testY.shape"
   ]
  },
  {
   "cell_type": "code",
   "execution_count": 189,
   "metadata": {},
   "outputs": [],
   "source": [
    "predictions = LSTM.predict(testX)"
   ]
  },
  {
   "cell_type": "code",
   "execution_count": 190,
   "metadata": {},
   "outputs": [
    {
     "name": "stdout",
     "output_type": "stream",
     "text": [
      "              precision    recall  f1-score   support\n",
      "\n",
      "         0.0       0.90      0.87      0.88      1167\n",
      "         1.0       0.78      0.87      0.82       671\n",
      "         2.0       0.43      0.32      0.36       157\n",
      "\n",
      "   micro avg       0.83      0.83      0.83      1995\n",
      "   macro avg       0.70      0.69      0.69      1995\n",
      "weighted avg       0.82      0.83      0.82      1995\n",
      "\n"
     ]
    }
   ],
   "source": [
    "final_pred = []\n",
    "for score in range(0, len(predictions)):\n",
    "    final_pred.append(np.argmax(predictions[score]))\n",
    "    \n",
    "print(classification_report(testY, final_pred))"
   ]
  },
  {
   "cell_type": "markdown",
   "metadata": {},
   "source": [
    "### Test on New Dataset"
   ]
  },
  {
   "cell_type": "code",
   "execution_count": 152,
   "metadata": {},
   "outputs": [],
   "source": [
    "# Read in dataframe\n",
    "test = pd.read_csv('test_data_2.csv')\n",
    "test['Class'] = test['Flow'].apply(label_fix)\n",
    "\n",
    "scaleData_2 = test.drop('Flow', axis = 1)\n",
    "scaleData_2.drop('Class', axis = 1, inplace = True)\n",
    "\n",
    "scaler = StandardScaler()\n",
    "scaler.fit(scaleData_2)\n",
    "scaled_features = scaler.transform(scaleData_2)\n",
    "\n",
    "X_1 = pd.DataFrame(scaled_features, columns = df.columns[1:9])\n",
    "X_1['Class'] = test['Class']\n",
    "y_1 = test['Class']\n",
    "\n",
    "newX, newY = windowData(X_1, 4, 3)"
   ]
  },
  {
   "cell_type": "code",
   "execution_count": 153,
   "metadata": {},
   "outputs": [
    {
     "name": "stdout",
     "output_type": "stream",
     "text": [
      "              precision    recall  f1-score   support\n",
      "\n",
      "         0.0       0.84      0.85      0.85       743\n",
      "         1.0       0.89      0.83      0.86       714\n",
      "         2.0       0.61      0.72      0.66       214\n",
      "\n",
      "   micro avg       0.83      0.83      0.83      1671\n",
      "   macro avg       0.78      0.80      0.79      1671\n",
      "weighted avg       0.83      0.83      0.83      1671\n",
      "\n"
     ]
    }
   ],
   "source": [
    "test_predictions = LSTM.predict(newX)\n",
    "\n",
    "final_pred_test = []\n",
    "for score in range(0, len(test_predictions)):\n",
    "    final_pred_test.append(np.argmax(test_predictions[score]))\n",
    "    \n",
    "print(classification_report(newY, final_pred_test))"
   ]
  },
  {
   "cell_type": "code",
   "execution_count": null,
   "metadata": {},
   "outputs": [],
   "source": []
  }
 ],
 "metadata": {
  "kernelspec": {
   "display_name": "Python 3",
   "language": "python",
   "name": "python3"
  },
  "language_info": {
   "codemirror_mode": {
    "name": "ipython",
    "version": 3
   },
   "file_extension": ".py",
   "mimetype": "text/x-python",
   "name": "python",
   "nbconvert_exporter": "python",
   "pygments_lexer": "ipython3",
   "version": "3.7.3"
  }
 },
 "nbformat": 4,
 "nbformat_minor": 2
}
